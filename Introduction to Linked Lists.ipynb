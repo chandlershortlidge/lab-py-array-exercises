{
 "cells": [
  {
   "cell_type": "markdown",
   "metadata": {
    "id": "xjSiYUs6T_iz"
   },
   "source": [
    "## Activity: Introduction to Python Linked Lists\n",
    "This exercise is designed to help you understand and practice the concepts of linked lists in Python. You will implement a simple linked list class and perform various operations such as insertion, deletion, and traversal.\n"
   ]
  },
  {
   "cell_type": "markdown",
   "metadata": {
    "id": "n-BAAH_kT_i1"
   },
   "source": [
    "### Objectives\n",
    "- Implement a linked list using classes in Python.\n",
    "- Perform basic operations on the linked list.\n",
    "- Understand how nodes are connected in a linked list."
   ]
  },
  {
   "cell_type": "markdown",
   "metadata": {
    "id": "JyXJkw-pT_i2"
   },
   "source": [
    "## 1. Implement a  basic Linked List\n",
    "\n",
    "You can create a linked list in Python by defining a Node class and a LinkedList class. Here’s a basic example of how to implement a linked list:\n",
    "\n"
   ]
  },
  {
   "cell_type": "code",
   "execution_count": 2,
   "metadata": {
    "id": "Op03dYlUT_i2"
   },
   "outputs": [],
   "source": [
    "class Node:\n",
    "    def __init__(self, data):\n",
    "        self.data = data\n",
    "        self.next = None  # Reference to the next node\n",
    "# LinkedList class manages the nodes and operations of the linked list\n",
    "class LinkedList:\n",
    "    def __init__(self):\n",
    "        self.head = None  # Initialize an empty linked list\n",
    "    def append(self, data):\n",
    "        new_node = Node(data)\n",
    "        if not self.head:\n",
    "            self.head = new_node\n",
    "            return\n",
    "        last_node = self.head\n",
    "        while last_node.next:\n",
    "            last_node = last_node.next\n",
    "        last_node.next = new_node\n",
    "    def print_list(self):\n",
    "        current_node = self.head\n",
    "        while current_node:\n",
    "            print(current_node.data, end=\" -> \")\n",
    "            current_node = current_node.next\n",
    "        print(\"None\")"
   ]
  },
  {
   "cell_type": "code",
   "execution_count": 3,
   "metadata": {
    "id": "zlGm7ARHT_i3"
   },
   "outputs": [
    {
     "name": "stdout",
     "output_type": "stream",
     "text": [
      "1 -> 2 -> 3 -> None\n"
     ]
    }
   ],
   "source": [
    "# Example usage:\n",
    "llist = LinkedList()\n",
    "llist.append(1)\n",
    "llist.append(2)\n",
    "llist.append(3)\n",
    "llist.print_list()"
   ]
  },
  {
   "cell_type": "markdown",
   "metadata": {
    "id": "FoWz3XkoT_i4"
   },
   "source": [
    "\n",
    "### 2. Instructions to Create a Linked List with Basic Operations\n",
    "\n"
   ]
  },
  {
   "cell_type": "markdown",
   "metadata": {
    "id": "LJyXUgpOT_i4"
   },
   "source": [
    "\n",
    "1. **Create a Node Class**\n",
    "   - Define a class named `Node` that will represent each node in the linked list.\n",
    "   - The `Node` class should have two attributes:\n",
    "     - `data`: to store the value of the node.\n",
    "     - `next`: to store a reference to the next node (initialize it to `None`).\n",
    "\n"
   ]
  },
  {
   "cell_type": "code",
   "execution_count": 1,
   "metadata": {
    "id": "nCkm-d9nT_i4"
   },
   "outputs": [],
   "source": [
    "class Node:\n",
    "    def __init__(self, data):\n",
    "        self.data = data\n",
    "        self.next = None"
   ]
  },
  {
   "cell_type": "markdown",
   "metadata": {
    "id": "DZiyqYJ5T_i5"
   },
   "source": [
    "\n",
    "2. **Create a LinkedList Class**\n",
    "   - Define a class named `LinkedList` that will manage the linked list.\n",
    "   - The `LinkedList` class should have an attribute called `head`, which points to the first node (initialize it to `None`).\n",
    "\n"
   ]
  },
  {
   "cell_type": "code",
   "execution_count": 2,
   "metadata": {
    "id": "cDtLAfwYT_i5"
   },
   "outputs": [],
   "source": [
    "class LinkedList:\n",
    "    def __init__(self):\n",
    "\n",
    "        self.head = None"
   ]
  },
  {
   "cell_type": "markdown",
   "metadata": {
    "id": "EX8HCNJoT_i5"
   },
   "source": [
    "3. **Implement Insertion Methods**\n",
    "   - Implement the following methods in the `LinkedList` class:\n",
    "     - **insertAtBegin(data)**: Inserts a new node at the beginning of the linked list.\n",
    "     - **insertAtEnd(data)**: Inserts a new node at the end of the linked list.\n",
    "     - **insertAtIndex(data, index)**: Inserts a new node at a specified index.\n",
    "\n",
    "\n"
   ]
  },
  {
   "cell_type": "code",
   "execution_count": 4,
   "metadata": {
    "id": "n_T0Xy_1T_i6"
   },
   "outputs": [],
   "source": [
    "def insertAtBegin(self, data):\n",
    "    new_node = Node(data)\n",
    "    if self.head is None:\n",
    "        self.head = new_node\n",
    "    else:\n",
    "        new_node.next = self.head\n",
    "        self.head = new_node"
   ]
  },
  {
   "cell_type": "code",
   "execution_count": 5,
   "metadata": {
    "id": "CXLqmy7vT_i6"
   },
   "outputs": [],
   "source": [
    "def inserAtEnd(self, data):\n",
    "    new_node = Node(data)\n",
    "    if self.head is None:\n",
    "        self.head = new_node\n",
    "        return\n",
    "\n",
    "    current_node = self.head\n",
    "    while(current_node.next):\n",
    "        current_node = current_node.next\n",
    "\n",
    "    current_node.next = new_node"
   ]
  },
  {
   "cell_type": "code",
   "execution_count": 6,
   "metadata": {
    "id": "DSpmTP4DT_i6"
   },
   "outputs": [],
   "source": [
    "# Method to add a node at any index\n",
    "# Indexing starts from 0.\n",
    "def insertAtIndex(self, data, index):\n",
    "    if (index == 0):\n",
    "        self.insertAtBegin(data)\n",
    "        return\n",
    "\n",
    "    position = 0\n",
    "    current_node = self.head\n",
    "    while (current_node != None and position+1 != index):\n",
    "        position = position+1\n",
    "        current_node = current_node.next\n",
    "\n",
    "    if current_node != None:\n",
    "        new_node = Node(data)\n",
    "        new_node.next = current_node.next\n",
    "        current_node.next = new_node\n",
    "    else:\n",
    "        print(\"Index not present\")"
   ]
  },
  {
   "cell_type": "markdown",
   "metadata": {
    "id": "2S2ztuV7T_i6"
   },
   "source": [
    "\n",
    "4. **Implement Deletion Method**\n",
    "   - Implement a method named **remove_first_node(data)** that deletes the first occurrence of a node with the specified data from the linked list.\n",
    "\n"
   ]
  },
  {
   "cell_type": "code",
   "execution_count": 8,
   "metadata": {
    "id": "LDk4BJ9KT_i6"
   },
   "outputs": [],
   "source": [
    "def remove_first_node(self):\n",
    "    if(self.head == None):\n",
    "        return\n",
    "\n",
    "    self.head = self.head.next\n",
    "\n",
    "\n",
    "def remove_last_node(self):\n",
    "\n",
    "    if self.head is None:\n",
    "        return\n",
    "\n",
    "    curr_node = self.head\n",
    "    while (curr_node.next != None and curr_node.next.next != None):\n",
    "        curr_node = curr_node.next\n",
    "\n",
    "    curr_node.next = None\n",
    "\n",
    "# Method to remove at given index\n",
    "def remove_at_index(self, index):\n",
    "    if self.head is None:\n",
    "        return\n",
    "\n",
    "    current_node = self.head\n",
    "    position = 0\n",
    "\n",
    "    if index == 0:\n",
    "        self.remove_first_node()\n",
    "    else:\n",
    "        while current_node is not None and position < index - 1:\n",
    "            position += 1\n",
    "            current_node = current_node.next\n",
    "\n",
    "        if current_node is None or current_node.next is None:\n",
    "            print(\"Index not present\")\n",
    "        else:\n",
    "            current_node.next = current_node.next.next"
   ]
  },
  {
   "cell_type": "markdown",
   "metadata": {
    "id": "8aHQjaXfT_i7"
   },
   "source": [
    "\n",
    "5. **Implement Traversal Method**\n",
    "   - Implement a method named **printLL()** that traverses the linked list and prints out each node's data.\n",
    "\n"
   ]
  },
  {
   "cell_type": "code",
   "execution_count": 9,
   "metadata": {
    "id": "NVp8URxgT_i7"
   },
   "outputs": [],
   "source": [
    "def printLL(self):\n",
    "    current_node = self.head\n",
    "    while(current_node):\n",
    "        print(current_node.data)\n",
    "        current_node = current_node.next"
   ]
  },
  {
   "cell_type": "markdown",
   "metadata": {
    "id": "d49a0F3PT_i7"
   },
   "source": [
    "\n",
    "6. **Test Your Linked List Implementation**\n",
    "   - Create an instance of your `LinkedList`.\n",
    "   - Perform various operations such as inserting nodes at different positions, deleting nodes, and printing the list.\n",
    "\n",
    "\n"
   ]
  },
  {
   "cell_type": "markdown",
   "metadata": {
    "id": "oXGiQiQ8T_i7"
   },
   "source": [
    "Full code for the Linked List with all Operations"
   ]
  },
  {
   "cell_type": "code",
   "execution_count": 6,
   "metadata": {
    "id": "Twb81Vg9T_i7"
   },
   "outputs": [],
   "source": [
    "# Create a Node class to create a node\n",
    "class Node:\n",
    "    def __init__(self, data):\n",
    "        self.data = data\n",
    "        self.next = None\n",
    "\n",
    "# Create a LinkedList class\n",
    "class LinkedList:\n",
    "    def __init__(self):\n",
    "        self.head = None\n",
    "\n",
    "    # Method to add a node at the beginning of the LL\n",
    "    def insertAtBegin(self, data):\n",
    "        new_node = Node(data)\n",
    "        new_node.next = self.head\n",
    "        self.head = new_node\n",
    "\n",
    "    # Method to add a node at any index\n",
    "    # Indexing starts from 0.\n",
    "    def insertAtIndex(self, data, index):\n",
    "        if index == 0:\n",
    "            self.insertAtBegin(data)\n",
    "            return\n",
    "\n",
    "        position = 0\n",
    "        current_node = self.head\n",
    "        while current_node is not None and position + 1 != index:\n",
    "            position += 1\n",
    "            current_node = current_node.next\n",
    "\n",
    "        if current_node is not None:\n",
    "            new_node = Node(data)\n",
    "            new_node.next = current_node.next\n",
    "            current_node.next = new_node\n",
    "        else:\n",
    "            print(\"Index not present\")\n",
    "\n",
    "    # Method to add a node at the end of LL\n",
    "    def insertAtEnd(self, data):\n",
    "        new_node = Node(data)\n",
    "        if self.head is None:\n",
    "            self.head = new_node\n",
    "            return\n",
    "\n",
    "        current_node = self.head\n",
    "        while current_node.next:\n",
    "            current_node = current_node.next\n",
    "\n",
    "        current_node.next = new_node\n",
    "\n",
    "    # Update node at a given position\n",
    "    def updateNode(self, val, index):\n",
    "        current_node = self.head\n",
    "        position = 0\n",
    "        while current_node is not None and position != index:\n",
    "            position += 1\n",
    "            current_node = current_node.next\n",
    "\n",
    "        if current_node is not None:\n",
    "            current_node.data = val\n",
    "        else:\n",
    "            print(\"Index not present\")\n",
    "\n",
    "    # Method to remove first node of linked list\n",
    "    def remove_first_node(self):\n",
    "        if self.head is None:\n",
    "            return\n",
    "\n",
    "        self.head = self.head.next\n",
    "\n",
    "    # Method to remove last node of linked list\n",
    "    def remove_last_node(self):\n",
    "        if self.head is None:\n",
    "            return\n",
    "\n",
    "        # If there's only one node\n",
    "        if self.head.next is None:\n",
    "            self.head = None\n",
    "            return\n",
    "\n",
    "        # Traverse to the second last node\n",
    "        current_node = self.head\n",
    "        while current_node.next and current_node.next.next:\n",
    "            current_node = current_node.next\n",
    "\n",
    "        current_node.next = None\n",
    "\n",
    "    # Method to remove a node at a given index\n",
    "    def remove_at_index(self, index):\n",
    "        if self.head is None:\n",
    "            return\n",
    "\n",
    "        if index == 0:\n",
    "            self.remove_first_node()\n",
    "            return\n",
    "\n",
    "        current_node = self.head\n",
    "        position = 0\n",
    "        while current_node is not None and current_node.next is not None and position + 1 != index:\n",
    "            position += 1\n",
    "            current_node = current_node.next\n",
    "\n",
    "        if current_node is not None and current_node.next is not None:\n",
    "            current_node.next = current_node.next.next\n",
    "        else:\n",
    "            print(\"Index not present\")\n",
    "\n",
    "    # Method to remove a node from the linked list by its data\n",
    "    def remove_node(self, data):\n",
    "        current_node = self.head\n",
    "\n",
    "        # If the node to be removed is the head node\n",
    "        if current_node is not None and current_node.data == data:\n",
    "            self.remove_first_node()\n",
    "            return\n",
    "\n",
    "        # Traverse and find the node with the matching data\n",
    "        while current_node is not None and current_node.next is not None:\n",
    "            if current_node.next.data == data:\n",
    "                current_node.next = current_node.next.next\n",
    "                return\n",
    "            current_node = current_node.next\n",
    "\n",
    "        # If the data was not found\n",
    "        print(\"Node with the given data not found\")\n",
    "\n",
    "    # Print the size of the linked list\n",
    "    def sizeOfLL(self):\n",
    "        size = 0\n",
    "        current_node = self.head\n",
    "        while current_node:\n",
    "            size += 1\n",
    "            current_node = current_node.next\n",
    "        return size\n",
    "\n",
    "    # Print the linked list\n",
    "    def printLL(self):\n",
    "        current_node = self.head\n",
    "        while current_node:\n",
    "            print(current_node.data)\n",
    "            current_node = current_node.next\n",
    "\n"
   ]
  },
  {
   "cell_type": "markdown",
   "metadata": {
    "id": "lRMGcW7rT_i8"
   },
   "source": [
    "### Example Usage"
   ]
  },
  {
   "cell_type": "code",
   "execution_count": 7,
   "metadata": {
    "id": "qGbJvIgrT_i8"
   },
   "outputs": [
    {
     "name": "stdout",
     "output_type": "stream",
     "text": [
      "Node Data:\n",
      "c\n",
      "a\n",
      "g\n",
      "b\n",
      "d\n"
     ]
    }
   ],
   "source": [
    "\n",
    "# create a new linked list\n",
    "llist = LinkedList()\n",
    "\n",
    "# add nodes to the linked list\n",
    "llist.insertAtEnd('a')\n",
    "llist.insertAtEnd('b')\n",
    "llist.insertAtBegin('c')\n",
    "llist.insertAtEnd('d')\n",
    "llist.insertAtIndex('g', 2)\n",
    "\n",
    "# print the linked list\n",
    "print(\"Node Data:\")\n",
    "llist.printLL()\n"
   ]
  },
  {
   "cell_type": "code",
   "execution_count": 8,
   "metadata": {
    "id": "kTO_g5CvT_i8"
   },
   "outputs": [
    {
     "name": "stdout",
     "output_type": "stream",
     "text": [
      "\n",
      "Remove First Node:\n",
      "a\n",
      "g\n",
      "b\n",
      "d\n",
      "\n",
      "Remove Last Node:\n",
      "a\n",
      "g\n",
      "b\n",
      "\n",
      "Remove Node at Index 1:\n",
      "a\n",
      "b\n",
      "\n",
      "Linked list after removing a node:\n",
      "a\n",
      "b\n",
      "\n",
      "Update node Value at Index 0:\n",
      "z\n",
      "b\n",
      "\n",
      "Size of linked list: 2\n"
     ]
    }
   ],
   "source": [
    "\n",
    "# remove nodes from the linked list\n",
    "print(\"\\nRemove First Node:\")\n",
    "llist.remove_first_node()\n",
    "llist.printLL()\n",
    "\n",
    "print(\"\\nRemove Last Node:\")\n",
    "llist.remove_last_node()\n",
    "llist.printLL()\n",
    "\n",
    "print(\"\\nRemove Node at Index 1:\")\n",
    "llist.remove_at_index(1)\n",
    "llist.printLL()\n",
    "\n",
    "# print the linked list after all removals\n",
    "print(\"\\nLinked list after removing a node:\")\n",
    "llist.printLL()\n",
    "\n",
    "print(\"\\nUpdate node Value at Index 0:\")\n",
    "llist.updateNode('z', 0)\n",
    "llist.printLL()\n",
    "\n",
    "print(\"\\nSize of linked list:\", llist.sizeOfLL())"
   ]
  },
  {
   "cell_type": "markdown",
   "metadata": {
    "id": "nEwdv88AT_i8"
   },
   "source": [
    "\n",
    "### Challenge\n",
    "- Extend your linked list implementation to include methods for reversing the linked list and finding the size of the linked list."
   ]
  },
  {
   "cell_type": "code",
   "execution_count": 4,
   "metadata": {},
   "outputs": [],
   "source": [
    "# Define the Node (each \"car\" in the train)\n",
    "class Node:\n",
    "    def __init__(self, data):\n",
    "        self.data = data    # The value stored in this node\n",
    "        self.next = None    # Reference to the next node\n",
    "\n",
    "# Define the LinkedList (the whole \"train\")\n",
    "class LinkedList:\n",
    "    def __init__(self):\n",
    "        self.head = None    # Start with no nodes\n",
    "\n",
    "    # Add a new node at the end\n",
    "    def append(self, data):\n",
    "        new_node = Node(data)\n",
    "        if not self.head:\n",
    "            self.head = new_node\n",
    "            return\n",
    "        last = self.head\n",
    "        while last.next:\n",
    "            last = last.next\n",
    "        last.next = new_node\n",
    "\n",
    "    # Print the list\n",
    "    def print_list(self):\n",
    "        current = self.head\n",
    "        while current:\n",
    "            print(current.data, end=\" -> \")\n",
    "            current = current.next\n",
    "        print(\"None\")\n",
    "\n",
    "    # Find the size of the list\n",
    "    def size(self):\n",
    "        count = 0\n",
    "        current = self.head\n",
    "        while current:\n",
    "            count += 1\n",
    "            current = current.next\n",
    "        return count\n",
    "\n",
    "    # Reverse the linked list\n",
    "    def reverse(self):\n",
    "        prev = None\n",
    "        current = self.head\n",
    "        while current:\n",
    "            next_node = current.next\n",
    "            current.next = prev\n",
    "            prev = current\n",
    "            current = next_node\n",
    "        self.head = prev\n"
   ]
  },
  {
   "cell_type": "code",
   "execution_count": 5,
   "metadata": {},
   "outputs": [
    {
     "name": "stdout",
     "output_type": "stream",
     "text": [
      "Original list:\n",
      "10 -> 20 -> 30 -> None\n",
      "Size: 3\n",
      "Reversed list:\n",
      "30 -> 20 -> 10 -> None\n"
     ]
    }
   ],
   "source": [
    "# Create a new list\n",
    "my_list = LinkedList()\n",
    "my_list.append(10)\n",
    "my_list.append(20)\n",
    "my_list.append(30)\n",
    "\n",
    "print(\"Original list:\")\n",
    "my_list.print_list()   # Output: 10 -> 20 -> 30 -> None\n",
    "\n",
    "print(\"Size:\", my_list.size())   # Output: 3\n",
    "\n",
    "my_list.reverse()\n",
    "print(\"Reversed list:\")\n",
    "my_list.print_list()   # Output: 30 -> 20 -> 10 -> None\n"
   ]
  },
  {
   "cell_type": "code",
   "execution_count": null,
   "metadata": {},
   "outputs": [],
   "source": []
  }
 ],
 "metadata": {
  "colab": {
   "provenance": []
  },
  "kernelspec": {
   "display_name": "Python 3",
   "language": "python",
   "name": "python3"
  },
  "language_info": {
   "codemirror_mode": {
    "name": "ipython",
    "version": 3
   },
   "file_extension": ".py",
   "mimetype": "text/x-python",
   "name": "python",
   "nbconvert_exporter": "python",
   "pygments_lexer": "ipython3",
   "version": "3.13.3"
  }
 },
 "nbformat": 4,
 "nbformat_minor": 0
}
